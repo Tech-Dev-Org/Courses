{
  "nbformat": 4,
  "nbformat_minor": 0,
  "metadata": {
    "anaconda-cloud": {},
    "kernelspec": {
      "display_name": "Python 3",
      "language": "python",
      "name": "python3"
    },
    "language_info": {
      "codemirror_mode": {
        "name": "ipython",
        "version": 3
      },
      "file_extension": ".py",
      "mimetype": "text/x-python",
      "name": "python",
      "nbconvert_exporter": "python",
      "pygments_lexer": "ipython3",
      "version": "3.7.3"
    },
    "colab": {
      "name": "02-Semantics-Variables.ipynb",
      "provenance": [],
      "collapsed_sections": []
    }
  },
  "cells": [
    {
      "cell_type": "markdown",
      "metadata": {
        "id": "ISorjWwlJV1_",
        "colab_type": "text"
      },
      "source": [
        "# Basic Python Semantics: Variables and Objects"
      ]
    },
    {
      "cell_type": "markdown",
      "metadata": {
        "id": "vCuuznZDJV2G",
        "colab_type": "text"
      },
      "source": [
        "This section will begin to cover the basic semantics of the Python language.\n",
        "As opposed to the *syntax* covered in the previous section, the *semantics* of a language involve the meaning of the statements.\n",
        "As with our discussion of syntax, here we'll preview a few of the essential semantic constructions in Python to give you a better frame of reference for understanding the code in the following sections.\n",
        "\n",
        "This section will cover the semantics of *variables* and *objects*, which are the main ways you store, reference, and operate on data within a Python script."
      ]
    },
    {
      "cell_type": "markdown",
      "metadata": {
        "id": "jwVxIpOXJV2I",
        "colab_type": "text"
      },
      "source": [
        "## Python Variables Are Pointers\n",
        "\n",
        "Assigning variables in Python is as easy as putting a variable name to the left of the equals (``=``) sign:\n",
        "\n",
        "```python\n",
        "# assign 4 to the variable x\n",
        "x = 4\n",
        "```\n",
        "\n",
        "This may seem straightforward, but if you have the wrong mental model of what this operation does, the way Python works may seem confusing.\n",
        "We'll briefly dig into that here.\n",
        "\n",
        "In many programming languages, variables are best thought of as containers or buckets into which you put data.\n",
        "So in C, for example, when you write\n",
        "\n",
        "```C\n",
        "// C code\n",
        "int x = 4;\n",
        "```\n",
        "\n",
        "you are essentially defining a \"memory bucket\" named ``x``, and putting the value ``4`` into it.\n",
        "In Python, by contrast, variables are best thought of not as containers but as pointers.\n",
        "So in Python, when you write\n",
        "\n",
        "```python\n",
        "x = 4\n",
        "```\n",
        "\n",
        "you are essentially defining a *pointer* named ``x`` that points to some other bucket containing the value ``4``.\n",
        "Note one consequence of this: because Python variables just point to various objects, there is no need to \"declare\" the variable, or even require the variable to always point to information of the same type!\n",
        "This is the sense in which people say Python is *dynamically-typed*: variable names can point to objects of any type.\n",
        "So in Python, you can do things like this:"
      ]
    },
    {
      "cell_type": "code",
      "metadata": {
        "id": "k_KG0416JV2L",
        "colab_type": "code",
        "colab": {}
      },
      "source": [
        "x = 1         # x is an integer\n",
        "x = 'hello'   # now x is a string\n",
        "x = [1, 2, 3] # now x is a list"
      ],
      "execution_count": 0,
      "outputs": []
    },
    {
      "cell_type": "markdown",
      "metadata": {
        "id": "OOKxNY0_JV2a",
        "colab_type": "text"
      },
      "source": [
        "While users of statically-typed languages might miss the type-safety that comes with declarations like those found in C,\n",
        "\n",
        "```C\n",
        "int x = 4;\n",
        "```\n",
        "\n",
        "this dynamic typing is one of the pieces that makes Python so quick to write and easy to read.\n",
        "\n",
        "There is a consequence of this \"variable as pointer\" approach that you need to be aware of.\n",
        "If we have two variable names pointing to the same *mutable* object, then changing one will change the other as well!\n",
        "For example, let's create and modify a list:"
      ]
    },
    {
      "cell_type": "code",
      "metadata": {
        "id": "w3Yh7osBJV2b",
        "colab_type": "code",
        "colab": {
          "base_uri": "https://localhost:8080/",
          "height": 35
        },
        "outputId": "3e4da684-3d98-4372-a37d-e59f24555c25"
      },
      "source": [
        "x = [1, 2, 3]\n",
        "y = x\n",
        "y"
      ],
      "execution_count": 2,
      "outputs": [
        {
          "output_type": "execute_result",
          "data": {
            "text/plain": [
              "[1, 2, 3]"
            ]
          },
          "metadata": {
            "tags": []
          },
          "execution_count": 2
        }
      ]
    },
    {
      "cell_type": "markdown",
      "metadata": {
        "id": "LThAs9hFJV2l",
        "colab_type": "text"
      },
      "source": [
        "We've created two variables ``x`` and ``y`` which both point to the same object.\n",
        "Because of this, if we modify the list via one of its names, we'll see that the \"other\" list will be modified as well:"
      ]
    },
    {
      "cell_type": "code",
      "metadata": {
        "id": "iY5AawjXJV2m",
        "colab_type": "code",
        "colab": {
          "base_uri": "https://localhost:8080/",
          "height": 35
        },
        "outputId": "0db913ea-606a-4c17-9e30-e6a6d2ea4081"
      },
      "source": [
        "print(y)"
      ],
      "execution_count": 3,
      "outputs": [
        {
          "output_type": "stream",
          "text": [
            "[1, 2, 3]\n"
          ],
          "name": "stdout"
        }
      ]
    },
    {
      "cell_type": "code",
      "metadata": {
        "id": "ljRDH8RiJV2r",
        "colab_type": "code",
        "colab": {
          "base_uri": "https://localhost:8080/",
          "height": 35
        },
        "outputId": "1784f55c-ce67-465c-d2cc-7f581c108eae"
      },
      "source": [
        "x.append(4) # append 4 to the list pointed to by x\n",
        "print(y) # y's list is modified as well!"
      ],
      "execution_count": 4,
      "outputs": [
        {
          "output_type": "stream",
          "text": [
            "[1, 2, 3, 4]\n"
          ],
          "name": "stdout"
        }
      ]
    },
    {
      "cell_type": "markdown",
      "metadata": {
        "id": "JeOBw_gnJV2z",
        "colab_type": "text"
      },
      "source": [
        "This behavior might seem confusing if you're wrongly thinking of variables as buckets that contain data.\n",
        "But if you're correctly thinking of variables as pointers to objects, then this behavior makes sense.\n",
        "\n",
        "Note also that if we use \"``=``\" to assign another value to ``x``, this will not affect the value of ``y`` – assignment is simply a change of what object the variable points to:"
      ]
    },
    {
      "cell_type": "code",
      "metadata": {
        "id": "kDlDr5_qJV20",
        "colab_type": "code",
        "colab": {
          "base_uri": "https://localhost:8080/",
          "height": 35
        },
        "outputId": "f62e467e-7a2e-44ac-9a96-eb941f8732c5"
      },
      "source": [
        "x = 'something else'\n",
        "print(y)  # y is unchanged"
      ],
      "execution_count": 5,
      "outputs": [
        {
          "output_type": "stream",
          "text": [
            "[1, 2, 3, 4]\n"
          ],
          "name": "stdout"
        }
      ]
    },
    {
      "cell_type": "markdown",
      "metadata": {
        "id": "ZbHWP6peJV27",
        "colab_type": "text"
      },
      "source": [
        "Again, this makes perfect sense if you think of ``x`` and ``y`` as pointers, and the \"``=``\" operator as an operation that changes what the name points to.\n",
        "\n",
        "You might wonder whether this pointer idea makes arithmetic operations in Python difficult to track, but Python is set up so that this is not an issue. Numbers, strings, and other *simple types* are immutable: you can't change their value – you can only change what values the variables point to.\n",
        "So, for example, it's perfectly safe to do operations like the following:"
      ]
    },
    {
      "cell_type": "code",
      "metadata": {
        "id": "xQtXTzSbJV28",
        "colab_type": "code",
        "colab": {}
      },
      "source": [
        "x = 10\n",
        "y = x\n",
        "x += 5  # add 5 to x's value, and assign it to x\n",
        "print(\"x =\", x)\n",
        "print(\"y =\", y)"
      ],
      "execution_count": 0,
      "outputs": []
    },
    {
      "cell_type": "markdown",
      "metadata": {
        "id": "Bkok2YO0JV3G",
        "colab_type": "text"
      },
      "source": [
        "When we call ``x += 5``, we are not modifying the value of the ``10`` object pointed to by ``x``; we are rather changing the variable ``x`` so that it points to a new integer object with value ``15``.\n",
        "For this reason, the value of ``y`` is not affected by the operation."
      ]
    },
    {
      "cell_type": "markdown",
      "metadata": {
        "id": "F48K_eGuJV3H",
        "colab_type": "text"
      },
      "source": [
        "## Everything Is an Object\n",
        "\n",
        "Python is an object-oriented programming language, and in Python everything is an object.\n",
        "\n",
        "Let's flesh-out what this means. Earlier we saw that variables are simply pointers, and the variable names themselves have no attached type information.\n",
        "This leads some to claim erroneously that Python is a type-free language. But this is not the case!\n",
        "Consider the following:"
      ]
    },
    {
      "cell_type": "code",
      "metadata": {
        "id": "No7p1QLsJV3J",
        "colab_type": "code",
        "colab": {
          "base_uri": "https://localhost:8080/",
          "height": 35
        },
        "outputId": "9e3503b0-784e-44ae-d5b3-e27dc8d1b7b7"
      },
      "source": [
        "x = 4\n",
        "type(x)"
      ],
      "execution_count": 6,
      "outputs": [
        {
          "output_type": "execute_result",
          "data": {
            "text/plain": [
              "int"
            ]
          },
          "metadata": {
            "tags": []
          },
          "execution_count": 6
        }
      ]
    },
    {
      "cell_type": "code",
      "metadata": {
        "id": "Wpn__BU3JV3Q",
        "colab_type": "code",
        "colab": {
          "base_uri": "https://localhost:8080/",
          "height": 35
        },
        "outputId": "44f27709-b842-4dbd-fc96-078fb4d3eedf"
      },
      "source": [
        "x = 'hello'\n",
        "type(x)"
      ],
      "execution_count": 7,
      "outputs": [
        {
          "output_type": "execute_result",
          "data": {
            "text/plain": [
              "str"
            ]
          },
          "metadata": {
            "tags": []
          },
          "execution_count": 7
        }
      ]
    },
    {
      "cell_type": "code",
      "metadata": {
        "id": "7lq_RE8hJV3V",
        "colab_type": "code",
        "colab": {
          "base_uri": "https://localhost:8080/",
          "height": 35
        },
        "outputId": "8233ccaa-99ce-4496-d4e8-620be9f2d172"
      },
      "source": [
        "x = 3.14159\n",
        "type(x)"
      ],
      "execution_count": 8,
      "outputs": [
        {
          "output_type": "execute_result",
          "data": {
            "text/plain": [
              "float"
            ]
          },
          "metadata": {
            "tags": []
          },
          "execution_count": 8
        }
      ]
    },
    {
      "cell_type": "markdown",
      "metadata": {
        "id": "85TeL1obJV3Z",
        "colab_type": "text"
      },
      "source": [
        "Python has types; however, the types are linked not to the variable names but *to the objects themselves*.\n",
        "\n",
        "In object-oriented programming languages like Python, an *object* is an entity that contains data along with associated metadata and/or functionality.\n",
        "In Python everything is an object, which means every entity has some metadata (called *attributes*) and associated functionality (called *methods*).\n",
        "These attributes and methods are accessed via the dot syntax.\n",
        "\n",
        "For example, before we saw that lists have an ``append`` method, which adds an item to the list, and is accessed via the dot (\"``.``\") syntax:"
      ]
    },
    {
      "cell_type": "code",
      "metadata": {
        "id": "kgFDgyUgJV3a",
        "colab_type": "code",
        "colab": {
          "base_uri": "https://localhost:8080/",
          "height": 35
        },
        "outputId": "e66e20e0-47dd-4857-f21e-dec160cc7f88"
      },
      "source": [
        "L = [1, 2, 3]\n",
        "L.append(100)\n",
        "print(L)"
      ],
      "execution_count": 9,
      "outputs": [
        {
          "output_type": "stream",
          "text": [
            "[1, 2, 3, 100]\n"
          ],
          "name": "stdout"
        }
      ]
    },
    {
      "cell_type": "markdown",
      "metadata": {
        "id": "Fbwe0JPkJV3o",
        "colab_type": "text"
      },
      "source": [
        "While it might be expected for compound objects like lists to have attributes and methods, what is sometimes unexpected is that in Python even simple types have attached attributes and methods.\n",
        "For example, numerical types have a ``real`` and ``imag`` attribute that returns the real and imaginary part of the value, if viewed as a complex number:"
      ]
    },
    {
      "cell_type": "code",
      "metadata": {
        "id": "-a0TUKACJV3q",
        "colab_type": "code",
        "colab": {
          "base_uri": "https://localhost:8080/",
          "height": 35
        },
        "outputId": "73165505-fa68-4ac4-f147-35c1d836d517"
      },
      "source": [
        "x = 4.5\n",
        "print(x.real, \"+\", x.imag, 'i')"
      ],
      "execution_count": 10,
      "outputs": [
        {
          "output_type": "stream",
          "text": [
            "4.5 + 0.0 i\n"
          ],
          "name": "stdout"
        }
      ]
    },
    {
      "cell_type": "markdown",
      "metadata": {
        "id": "qGIYGXLUJV3x",
        "colab_type": "text"
      },
      "source": [
        "Methods are like attributes, except they are functions that you can call using opening and closing parentheses.\n",
        "For example, floating point numbers have a method called ``is_integer`` that checks whether the value is an integer:"
      ]
    },
    {
      "cell_type": "code",
      "metadata": {
        "id": "qvXmbc_DJV3z",
        "colab_type": "code",
        "colab": {
          "base_uri": "https://localhost:8080/",
          "height": 35
        },
        "outputId": "e46a8aa9-45dc-4acd-e8a4-5a770cbc8fa6"
      },
      "source": [
        "x = 4.5\n",
        "x.is_integer()"
      ],
      "execution_count": 11,
      "outputs": [
        {
          "output_type": "execute_result",
          "data": {
            "text/plain": [
              "False"
            ]
          },
          "metadata": {
            "tags": []
          },
          "execution_count": 11
        }
      ]
    },
    {
      "cell_type": "code",
      "metadata": {
        "id": "o42s5WBuJV3-",
        "colab_type": "code",
        "colab": {
          "base_uri": "https://localhost:8080/",
          "height": 35
        },
        "outputId": "90665b40-e821-4055-e730-4d740097a3cc"
      },
      "source": [
        "x = 4.0\n",
        "x.is_integer()"
      ],
      "execution_count": 12,
      "outputs": [
        {
          "output_type": "execute_result",
          "data": {
            "text/plain": [
              "True"
            ]
          },
          "metadata": {
            "tags": []
          },
          "execution_count": 12
        }
      ]
    },
    {
      "cell_type": "markdown",
      "metadata": {
        "id": "6LZ8ex3hJV4G",
        "colab_type": "text"
      },
      "source": [
        "When we say that everything in Python is an object, we really mean that *everything* is an object – even the attributes and methods of objects are themselves objects with their own ``type`` information:"
      ]
    },
    {
      "cell_type": "code",
      "metadata": {
        "id": "WI3Jw4JRJV4I",
        "colab_type": "code",
        "colab": {
          "base_uri": "https://localhost:8080/",
          "height": 35
        },
        "outputId": "1bc1ac7c-f26b-4e19-dc03-6fd228d6b445"
      },
      "source": [
        "type(x.is_integer)"
      ],
      "execution_count": 13,
      "outputs": [
        {
          "output_type": "execute_result",
          "data": {
            "text/plain": [
              "builtin_function_or_method"
            ]
          },
          "metadata": {
            "tags": []
          },
          "execution_count": 13
        }
      ]
    }
  ]
}