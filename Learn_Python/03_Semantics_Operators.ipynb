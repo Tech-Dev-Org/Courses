{
  "nbformat": 4,
  "nbformat_minor": 0,
  "metadata": {
    "anaconda-cloud": {},
    "kernelspec": {
      "display_name": "Python 3",
      "language": "python",
      "name": "python3"
    },
    "language_info": {
      "codemirror_mode": {
        "name": "ipython",
        "version": 3
      },
      "file_extension": ".py",
      "mimetype": "text/x-python",
      "name": "python",
      "nbconvert_exporter": "python",
      "pygments_lexer": "ipython3",
      "version": "3.7.3"
    },
    "colab": {
      "name": "03-Semantics-Operators.ipynb",
      "provenance": []
    }
  },
  "cells": [
    {
      "cell_type": "markdown",
      "metadata": {
        "id": "zhgzEst4L0DB",
        "colab_type": "text"
      },
      "source": [
        "# Basic Python Semantics: Operators"
      ]
    },
    {
      "cell_type": "markdown",
      "metadata": {
        "id": "It5fymKSL0DC",
        "colab_type": "text"
      },
      "source": [
        "In the previous section, we began to look at the semantics of Python variables and objects; here we'll dig into the semantics of the various *operators* included in the language.\n",
        "By the end of this section, you'll have the basic tools to begin comparing and operating on data in Python."
      ]
    },
    {
      "cell_type": "markdown",
      "metadata": {
        "id": "9k66d6vsL0DK",
        "colab_type": "text"
      },
      "source": [
        "## Arithmetic Operations\n",
        "Python implements seven basic binary arithmetic operators, two of which can double as unary operators.\n",
        "They are summarized in the following table:\n",
        "\n",
        "| Operator     | Name           | Description                                            |\n",
        "|--------------|----------------|--------------------------------------------------------|\n",
        "| ``a + b``    | Addition       | Sum of ``a`` and ``b``                                 |\n",
        "| ``a - b``    | Subtraction    | Difference of ``a`` and ``b``                          |\n",
        "| ``a * b``    | Multiplication | Product of ``a`` and ``b``                             |\n",
        "| ``a / b``    | True division  | Quotient of ``a`` and ``b``                            |\n",
        "| ``a // b``   | Floor division | Quotient of ``a`` and ``b``, removing fractional parts |\n",
        "| ``a % b``    | Modulus        | Integer remainder after division of ``a`` by ``b``     |\n",
        "| ``a ** b``   | Exponentiation | ``a`` raised to the power of ``b``                     |\n",
        "| ``-a``       | Negation       | The negative of ``a``                                  |\n",
        "| ``+a``       | Unary plus     | ``a`` unchanged (rarely used)                          |\n",
        "\n",
        "These operators can be used and combined in intuitive ways, using standard parentheses to group operations.\n",
        "For example:"
      ]
    },
    {
      "cell_type": "code",
      "metadata": {
        "id": "bxZTs6j0L0DM",
        "colab_type": "code",
        "colab": {
          "base_uri": "https://localhost:8080/",
          "height": 35
        },
        "outputId": "99d2c5cd-9cac-4d31-c4df-ab17919bcdb0"
      },
      "source": [
        "# addition, subtraction, multiplication\n",
        "(4 + 8) * (6.5 - 3)"
      ],
      "execution_count": 1,
      "outputs": [
        {
          "output_type": "execute_result",
          "data": {
            "text/plain": [
              "42.0"
            ]
          },
          "metadata": {
            "tags": []
          },
          "execution_count": 1
        }
      ]
    },
    {
      "cell_type": "markdown",
      "metadata": {
        "id": "IHbh4P_1L0DV",
        "colab_type": "text"
      },
      "source": [
        "Floor division is true division with fractional parts truncated:"
      ]
    },
    {
      "cell_type": "code",
      "metadata": {
        "id": "ExLBahUiL0DX",
        "colab_type": "code",
        "colab": {
          "base_uri": "https://localhost:8080/",
          "height": 35
        },
        "outputId": "3d373fbb-d3dd-46fc-f8b5-9d11314e7fbc"
      },
      "source": [
        "# True division\n",
        "print(11 / 2)"
      ],
      "execution_count": 2,
      "outputs": [
        {
          "output_type": "stream",
          "text": [
            "5.5\n"
          ],
          "name": "stdout"
        }
      ]
    },
    {
      "cell_type": "code",
      "metadata": {
        "id": "T-EKboMrL0Du",
        "colab_type": "code",
        "colab": {
          "base_uri": "https://localhost:8080/",
          "height": 35
        },
        "outputId": "2e484002-742d-4999-c985-93e03fefc1c8"
      },
      "source": [
        "# Floor division\n",
        "print(11 // 2)"
      ],
      "execution_count": 3,
      "outputs": [
        {
          "output_type": "stream",
          "text": [
            "5\n"
          ],
          "name": "stdout"
        }
      ]
    },
    {
      "cell_type": "markdown",
      "metadata": {
        "id": "ip_QDjFsL0D0",
        "colab_type": "text"
      },
      "source": [
        "The floor division operator was added in Python 3; you should be aware if working in Python 2 that the standard division operator (``/``) acts like floor division for integers and like true division for floating-point numbers.\n",
        "\n",
        "Finally, I'll mention an eighth arithmetic operator that was added in Python 3.5: the ``a @ b`` operator, which is meant to indicate the *matrix product* of ``a`` and ``b``, for use in various linear algebra packages."
      ]
    },
    {
      "cell_type": "markdown",
      "metadata": {
        "id": "GsP8oZKXL0D1",
        "colab_type": "text"
      },
      "source": [
        "## Bitwise Operations\n",
        "In addition to the standard numerical operations, Python includes operators to perform bitwise logical operations on integers.\n",
        "These are much less commonly used than the standard arithmetic operations, but it's useful to know that they exist.\n",
        "The six bitwise operators are summarized in the following table:\n",
        "\n",
        "| Operator     | Name            | Description                                 |\n",
        "|--------------|-----------------|---------------------------------------------|\n",
        "| ``a & b``    | Bitwise AND     | Bits defined in both ``a`` and ``b``        |\n",
        "| <code>a &#124; b</code>| Bitwise OR      | Bits defined in ``a`` or ``b`` or both      |\n",
        "| ``a ^ b``    | Bitwise XOR     | Bits defined in ``a`` or ``b`` but not both |\n",
        "| ``a << b``   | Bit shift left  | Shift bits of ``a`` left by ``b`` units     |\n",
        "| ``a >> b``   | Bit shift right | Shift bits of ``a`` right by ``b`` units    |\n",
        "| ``~a``       | Bitwise NOT     | Bitwise negation of ``a``                          |\n",
        "\n",
        "These bitwise operators only make sense in terms of the binary representation of numbers, which you can see using the built-in ``bin`` function:"
      ]
    },
    {
      "cell_type": "code",
      "metadata": {
        "id": "ieolpS90L0D3",
        "colab_type": "code",
        "colab": {
          "base_uri": "https://localhost:8080/",
          "height": 35
        },
        "outputId": "3b09e65d-fdef-4d55-ff30-3fd9ab341eaf"
      },
      "source": [
        "bin(10)[2:]"
      ],
      "execution_count": 5,
      "outputs": [
        {
          "output_type": "execute_result",
          "data": {
            "text/plain": [
              "'1010'"
            ]
          },
          "metadata": {
            "tags": []
          },
          "execution_count": 5
        }
      ]
    },
    {
      "cell_type": "markdown",
      "metadata": {
        "id": "RPj-VFyJL0D-",
        "colab_type": "text"
      },
      "source": [
        "The result is prefixed with ``'0b'``, which indicates a binary representation.\n",
        "The rest of the digits indicate that the number 10 is expressed as the sum $1 \\cdot 2^3 + 0 \\cdot 2^2 + 1 \\cdot 2^1 + 0 \\cdot 2^0$.\n",
        "Similarly, we can write:"
      ]
    },
    {
      "cell_type": "code",
      "metadata": {
        "id": "DWoJl1cAL0D_",
        "colab_type": "code",
        "colab": {
          "base_uri": "https://localhost:8080/",
          "height": 35
        },
        "outputId": "e5ef373e-70fe-4375-9984-e6b2bd60fc98"
      },
      "source": [
        "bin(4)"
      ],
      "execution_count": 6,
      "outputs": [
        {
          "output_type": "execute_result",
          "data": {
            "text/plain": [
              "'0b100'"
            ]
          },
          "metadata": {
            "tags": []
          },
          "execution_count": 6
        }
      ]
    },
    {
      "cell_type": "markdown",
      "metadata": {
        "id": "29MTC2jAL0EF",
        "colab_type": "text"
      },
      "source": [
        "Now, using bitwise OR, we can find the number which combines the bits of 4 and 10:"
      ]
    },
    {
      "cell_type": "code",
      "metadata": {
        "id": "YMmnml7vL0EG",
        "colab_type": "code",
        "colab": {
          "base_uri": "https://localhost:8080/",
          "height": 35
        },
        "outputId": "c149e71d-d96a-4619-95cf-d3653550a9ff"
      },
      "source": [
        "4 | 10"
      ],
      "execution_count": 7,
      "outputs": [
        {
          "output_type": "execute_result",
          "data": {
            "text/plain": [
              "14"
            ]
          },
          "metadata": {
            "tags": []
          },
          "execution_count": 7
        }
      ]
    },
    {
      "cell_type": "code",
      "metadata": {
        "id": "sQjgWAkfL0ES",
        "colab_type": "code",
        "colab": {
          "base_uri": "https://localhost:8080/",
          "height": 35
        },
        "outputId": "eab92520-8a32-4342-c89f-ed8c952bf04c"
      },
      "source": [
        "bin(4 | 10)"
      ],
      "execution_count": 8,
      "outputs": [
        {
          "output_type": "execute_result",
          "data": {
            "text/plain": [
              "'0b1110'"
            ]
          },
          "metadata": {
            "tags": []
          },
          "execution_count": 8
        }
      ]
    },
    {
      "cell_type": "markdown",
      "metadata": {
        "id": "VW1uuwpwL0EY",
        "colab_type": "text"
      },
      "source": [
        "These bitwise operators are not as immediately useful as the standard arithmetic operators, but it's helpful to see them at least once to understand what class of operation they perform.\n",
        "In particular, users from other languages are sometimes tempted to use XOR (i.e., ``a ^ b``) when they really mean exponentiation (i.e., ``a ** b``)."
      ]
    },
    {
      "cell_type": "markdown",
      "metadata": {
        "id": "TK-9jm5CL0EZ",
        "colab_type": "text"
      },
      "source": [
        "## Assignment Operations\n",
        "We've seen that variables can be assigned with the \"``=``\" operator, and the values stored for later use. For example:"
      ]
    },
    {
      "cell_type": "code",
      "metadata": {
        "id": "TqbCYNY8L0Ea",
        "colab_type": "code",
        "colab": {
          "base_uri": "https://localhost:8080/",
          "height": 35
        },
        "outputId": "ecefacf2-9696-4c72-8c4b-ed33b4abe177"
      },
      "source": [
        "a = 24\n",
        "print(a)"
      ],
      "execution_count": 9,
      "outputs": [
        {
          "output_type": "stream",
          "text": [
            "24\n"
          ],
          "name": "stdout"
        }
      ]
    },
    {
      "cell_type": "markdown",
      "metadata": {
        "id": "wRQg-SZmL0Eh",
        "colab_type": "text"
      },
      "source": [
        "We can use these variables in expressions with any of the operators mentioned earlier.\n",
        "For example, to add 2 to ``a`` we write:"
      ]
    },
    {
      "cell_type": "code",
      "metadata": {
        "id": "MMtgH5vML0Ej",
        "colab_type": "code",
        "colab": {
          "base_uri": "https://localhost:8080/",
          "height": 35
        },
        "outputId": "2ebcf0cc-235b-4634-fc9d-f0887a5ef423"
      },
      "source": [
        "a + 2"
      ],
      "execution_count": 10,
      "outputs": [
        {
          "output_type": "execute_result",
          "data": {
            "text/plain": [
              "26"
            ]
          },
          "metadata": {
            "tags": []
          },
          "execution_count": 10
        }
      ]
    },
    {
      "cell_type": "markdown",
      "metadata": {
        "id": "w1tdaRZ1L0Ew",
        "colab_type": "text"
      },
      "source": [
        "We might want to update the variable ``a`` with this new value; in this case, we could combine the addition and the assignment and write ``a = a + 2``.\n",
        "Because this type of combined operation and assignment is so common, Python includes built-in update operators for all of the arithmetic operations:"
      ]
    },
    {
      "cell_type": "code",
      "metadata": {
        "id": "TR7jLNopL0Ex",
        "colab_type": "code",
        "colab": {
          "base_uri": "https://localhost:8080/",
          "height": 35
        },
        "outputId": "6a28ae08-30cd-47bc-e4d8-076f822f78ff"
      },
      "source": [
        "a += 2  # equivalent to a = a + 2\n",
        "print(a)"
      ],
      "execution_count": 11,
      "outputs": [
        {
          "output_type": "stream",
          "text": [
            "26\n"
          ],
          "name": "stdout"
        }
      ]
    },
    {
      "cell_type": "markdown",
      "metadata": {
        "id": "b5_itN6DL0E3",
        "colab_type": "text"
      },
      "source": [
        "There is an augmented assignment operator corresponding to each of the binary operators listed earlier; in brief, they are:\n",
        "\n",
        "|||||\n",
        "|-|-|\n",
        "|``a += b``| ``a -= b``|``a *= b``| ``a /= b``|\n",
        "|``a //= b``| ``a %= b``|``a **= b``|``a &= b``|\n",
        "|<code>a &#124;= b</code>| ``a ^= b``|``a <<= b``| ``a >>= b``|\n",
        "\n",
        "Each one is equivalent to the corresponding operation followed by assignment: that is, for any operator \"``■``\", the expression ``a ■= b`` is equivalent to ``a = a ■ b``, with a slight catch.\n",
        "For mutable objects like lists, arrays, or DataFrames, these augmented assignment operations are actually subtly different than their more verbose counterparts: they modify the contents of the original object rather than creating a new object to store the result."
      ]
    },
    {
      "cell_type": "markdown",
      "metadata": {
        "id": "IMKtN-a2L0E4",
        "colab_type": "text"
      },
      "source": [
        "## Comparison Operations\n",
        "\n",
        "Another type of operation which can be very useful is comparison of different values.\n",
        "For this, Python implements standard comparison operators, which return Boolean values ``True`` and ``False``.\n",
        "The comparison operations are listed in the following table:\n",
        "\n",
        "| Operation     | Description                       || Operation     | Description                          |\n",
        "|---------------|-----------------------------------||---------------|--------------------------------------|\n",
        "| ``a == b``    | ``a`` equal to ``b``              || ``a != b``    | ``a`` not equal to ``b``             |\n",
        "| ``a < b``     | ``a`` less than ``b``             || ``a > b``     | ``a`` greater than ``b``             |\n",
        "| ``a <= b``    | ``a`` less than or equal to ``b`` || ``a >= b``    | ``a`` greater than or equal to ``b`` |\n",
        "\n",
        "These comparison operators can be combined with the arithmetic and bitwise operators to express a virtually limitless range of tests for the numbers.\n",
        "For example, we can check if a number is odd by checking that the modulus with 2 returns 1:"
      ]
    },
    {
      "cell_type": "code",
      "metadata": {
        "id": "TSzgPq6jL0E5",
        "colab_type": "code",
        "colab": {
          "base_uri": "https://localhost:8080/",
          "height": 35
        },
        "outputId": "c1e447cd-86b5-4e45-939b-f566077ffd97"
      },
      "source": [
        "# 25 is odd\n",
        "25 % 2 == 1"
      ],
      "execution_count": 12,
      "outputs": [
        {
          "output_type": "execute_result",
          "data": {
            "text/plain": [
              "True"
            ]
          },
          "metadata": {
            "tags": []
          },
          "execution_count": 12
        }
      ]
    },
    {
      "cell_type": "code",
      "metadata": {
        "id": "e1q7F730L0FD",
        "colab_type": "code",
        "colab": {
          "base_uri": "https://localhost:8080/",
          "height": 35
        },
        "outputId": "21dce11d-57ae-4cb7-d0e2-bffb7fb0824c"
      },
      "source": [
        "# 66 is odd\n",
        "66 % 2 == 1"
      ],
      "execution_count": 13,
      "outputs": [
        {
          "output_type": "execute_result",
          "data": {
            "text/plain": [
              "False"
            ]
          },
          "metadata": {
            "tags": []
          },
          "execution_count": 13
        }
      ]
    },
    {
      "cell_type": "markdown",
      "metadata": {
        "id": "KzDZCDY1L0FN",
        "colab_type": "text"
      },
      "source": [
        "We can string-together multiple comparisons to check more complicated relationships:"
      ]
    },
    {
      "cell_type": "code",
      "metadata": {
        "id": "yKBtGC9OL0FQ",
        "colab_type": "code",
        "colab": {
          "base_uri": "https://localhost:8080/",
          "height": 35
        },
        "outputId": "7c3b9aca-358b-4f87-8977-9d53cd7bd352"
      },
      "source": [
        "# check if a is between 15 and 30\n",
        "a = 25\n",
        "15 < a < 30"
      ],
      "execution_count": 14,
      "outputs": [
        {
          "output_type": "execute_result",
          "data": {
            "text/plain": [
              "True"
            ]
          },
          "metadata": {
            "tags": []
          },
          "execution_count": 14
        }
      ]
    },
    {
      "cell_type": "markdown",
      "metadata": {
        "id": "3kShHx4OL0FV",
        "colab_type": "text"
      },
      "source": [
        "And, just to make your head hurt a bit, take a look at this comparison:"
      ]
    },
    {
      "cell_type": "code",
      "metadata": {
        "id": "zR5P48WDL0FW",
        "colab_type": "code",
        "colab": {}
      },
      "source": [
        "-1 == ~0"
      ],
      "execution_count": 0,
      "outputs": []
    },
    {
      "cell_type": "markdown",
      "metadata": {
        "id": "rsfjX2gTL0Fc",
        "colab_type": "text"
      },
      "source": [
        "Recall that ``~`` is the bit-flip operator, and evidently when you flip all the bits of zero you end up with -1.\n",
        "If you're curious as to why this is, look up the *two's complement* integer encoding scheme, which is what Python uses to encode signed integers, and think about what happens when you start flipping all the bits of integers encoded this way."
      ]
    },
    {
      "cell_type": "markdown",
      "metadata": {
        "id": "AhWzstivL0Ff",
        "colab_type": "text"
      },
      "source": [
        "## Boolean Operations\n",
        "When working with Boolean values, Python provides operators to combine the values using the standard concepts of \"and\", \"or\", and \"not\".\n",
        "Predictably, these operators are expressed using the words ``and``, ``or``, and ``not``:"
      ]
    },
    {
      "cell_type": "code",
      "metadata": {
        "id": "9cVJa9LML0Fh",
        "colab_type": "code",
        "colab": {
          "base_uri": "https://localhost:8080/",
          "height": 35
        },
        "outputId": "38eaa15a-1d87-414e-eeab-911fa1f9811c"
      },
      "source": [
        "x = 4\n",
        "(x < 6) and (x > 2)"
      ],
      "execution_count": 15,
      "outputs": [
        {
          "output_type": "execute_result",
          "data": {
            "text/plain": [
              "True"
            ]
          },
          "metadata": {
            "tags": []
          },
          "execution_count": 15
        }
      ]
    },
    {
      "cell_type": "code",
      "metadata": {
        "id": "VeTsqKMAL0Fo",
        "colab_type": "code",
        "colab": {
          "base_uri": "https://localhost:8080/",
          "height": 35
        },
        "outputId": "e6066fd0-c3e8-40cc-a2d4-da024c818a4e"
      },
      "source": [
        "(x > 10) or (x % 2 == 0)"
      ],
      "execution_count": 16,
      "outputs": [
        {
          "output_type": "execute_result",
          "data": {
            "text/plain": [
              "True"
            ]
          },
          "metadata": {
            "tags": []
          },
          "execution_count": 16
        }
      ]
    },
    {
      "cell_type": "code",
      "metadata": {
        "id": "5TT5OkB5L0Fw",
        "colab_type": "code",
        "colab": {
          "base_uri": "https://localhost:8080/",
          "height": 35
        },
        "outputId": "47b3c1c0-5957-4ae5-de09-92ceb3ebdcc6"
      },
      "source": [
        "not (x < 6)"
      ],
      "execution_count": 17,
      "outputs": [
        {
          "output_type": "execute_result",
          "data": {
            "text/plain": [
              "False"
            ]
          },
          "metadata": {
            "tags": []
          },
          "execution_count": 17
        }
      ]
    },
    {
      "cell_type": "markdown",
      "metadata": {
        "id": "fgooCRI7L0F1",
        "colab_type": "text"
      },
      "source": [
        "Boolean algebra aficionados might notice that the XOR operator is not included; this can of course be constructed in several ways from a compound statement of the other operators.\n",
        "Otherwise, a clever trick you can use for XOR of Boolean values is the following:"
      ]
    },
    {
      "cell_type": "code",
      "metadata": {
        "id": "QOBVwsThL0F2",
        "colab_type": "code",
        "colab": {}
      },
      "source": [
        "# (x > 1) xor (x < 10)\n",
        "(x > 1) != (x < 10)"
      ],
      "execution_count": 0,
      "outputs": []
    },
    {
      "cell_type": "markdown",
      "metadata": {
        "id": "eg2IkXEWL0F7",
        "colab_type": "text"
      },
      "source": [
        "These sorts of Boolean operations will become extremely useful when we begin discussing *control flow statements* such as conditionals and loops.\n",
        "\n",
        "One sometimes confusing thing about the language is when to use Boolean operators (``and``, ``or``, ``not``), and when to use bitwise operations (``&``, ``|``, ``~``).\n",
        "The answer lies in their names: Boolean operators should be used when you want to compute *Boolean values (i.e., truth or falsehood) of entire statements*.\n",
        "Bitwise operations should be used when you want to *operate on individual bits or components of the objects in question*."
      ]
    },
    {
      "cell_type": "markdown",
      "metadata": {
        "id": "pZAK65J_L0F8",
        "colab_type": "text"
      },
      "source": [
        "## Identity and Membership Operators\n",
        "\n",
        "Like ``and``, ``or``, and ``not``, Python also contains prose-like operators  to check for identity and membership.\n",
        "They are the following:\n",
        "\n",
        "| Operator      | Description                                       |\n",
        "|---------------|---------------------------------------------------|\n",
        "| ``a is b``    | True if ``a`` and ``b`` are identical objects     |\n",
        "| ``a is not b``| True if ``a`` and ``b`` are not identical objects |\n",
        "| ``a in b``    | True if ``a`` is a member of ``b``                |\n",
        "| ``a not in b``| True if ``a`` is not a member of ``b``            |"
      ]
    },
    {
      "cell_type": "markdown",
      "metadata": {
        "id": "o-d2hWfSL0F-",
        "colab_type": "text"
      },
      "source": [
        "### Identity Operators: \"``is``\" and \"``is not``\"\n",
        "\n",
        "The identity operators, \"``is``\" and \"``is not``\" check for *object identity*.\n",
        "Object identity is different than equality, as we can see here:"
      ]
    },
    {
      "cell_type": "code",
      "metadata": {
        "id": "5f2XJPnPL0F_",
        "colab_type": "code",
        "colab": {}
      },
      "source": [
        "a = [1, 2, 3]\n",
        "b = [1, 2, 3]"
      ],
      "execution_count": 0,
      "outputs": []
    },
    {
      "cell_type": "code",
      "metadata": {
        "id": "7MVeylblL0GD",
        "colab_type": "code",
        "colab": {
          "base_uri": "https://localhost:8080/",
          "height": 35
        },
        "outputId": "ad7e2e28-10bd-470b-bf32-db2ec1e696d0"
      },
      "source": [
        "a == b"
      ],
      "execution_count": 20,
      "outputs": [
        {
          "output_type": "execute_result",
          "data": {
            "text/plain": [
              "True"
            ]
          },
          "metadata": {
            "tags": []
          },
          "execution_count": 20
        }
      ]
    },
    {
      "cell_type": "code",
      "metadata": {
        "id": "kQLasd_oL0GJ",
        "colab_type": "code",
        "colab": {
          "base_uri": "https://localhost:8080/",
          "height": 35
        },
        "outputId": "0a9acce4-8bdd-4963-9369-ee265931ba3c"
      },
      "source": [
        "a is b"
      ],
      "execution_count": 21,
      "outputs": [
        {
          "output_type": "execute_result",
          "data": {
            "text/plain": [
              "False"
            ]
          },
          "metadata": {
            "tags": []
          },
          "execution_count": 21
        }
      ]
    },
    {
      "cell_type": "code",
      "metadata": {
        "id": "j5DlI7yuL0GU",
        "colab_type": "code",
        "colab": {
          "base_uri": "https://localhost:8080/",
          "height": 35
        },
        "outputId": "4a4157b5-beb5-44d3-a706-962950436829"
      },
      "source": [
        "a is not b"
      ],
      "execution_count": 22,
      "outputs": [
        {
          "output_type": "execute_result",
          "data": {
            "text/plain": [
              "True"
            ]
          },
          "metadata": {
            "tags": []
          },
          "execution_count": 22
        }
      ]
    },
    {
      "cell_type": "markdown",
      "metadata": {
        "id": "3Zzn87nHL0GZ",
        "colab_type": "text"
      },
      "source": [
        "What do identical objects look like? Here is an example:"
      ]
    },
    {
      "cell_type": "code",
      "metadata": {
        "id": "oqAcQKDfL0Ga",
        "colab_type": "code",
        "colab": {
          "base_uri": "https://localhost:8080/",
          "height": 35
        },
        "outputId": "2654d41a-f92e-4dda-a970-5432ba3a4009"
      },
      "source": [
        "a = [1, 2, 3]\n",
        "b = a\n",
        "a is b"
      ],
      "execution_count": 23,
      "outputs": [
        {
          "output_type": "execute_result",
          "data": {
            "text/plain": [
              "True"
            ]
          },
          "metadata": {
            "tags": []
          },
          "execution_count": 23
        }
      ]
    },
    {
      "cell_type": "markdown",
      "metadata": {
        "id": "8saROEdIL0Gf",
        "colab_type": "text"
      },
      "source": [
        "The difference between the two cases here is that in the first, ``a`` and ``b`` point to *different objects*, while in the second they point to the *same object*.\n",
        "As we saw in the previous section, Python variables are pointers. The \"``is``\" operator checks whether the two variables are pointing to the same container (object), rather than referring to what the container contains.\n",
        "With this in mind, in most cases that a beginner is tempted to use \"``is``\" what they really mean is ``==``."
      ]
    },
    {
      "cell_type": "markdown",
      "metadata": {
        "id": "ZrssG_FJL0Gg",
        "colab_type": "text"
      },
      "source": [
        "### Membership operators\n",
        "Membership operators check for membership within compound objects.\n",
        "So, for example, we can write:"
      ]
    },
    {
      "cell_type": "code",
      "metadata": {
        "id": "DLtiZMlmL0Gh",
        "colab_type": "code",
        "colab": {
          "base_uri": "https://localhost:8080/",
          "height": 35
        },
        "outputId": "263d2092-a2b0-4d0b-e041-350f86aee66d"
      },
      "source": [
        "1 in [1, 2, 3]"
      ],
      "execution_count": 24,
      "outputs": [
        {
          "output_type": "execute_result",
          "data": {
            "text/plain": [
              "True"
            ]
          },
          "metadata": {
            "tags": []
          },
          "execution_count": 24
        }
      ]
    },
    {
      "cell_type": "code",
      "metadata": {
        "id": "SA34snFkL0Gl",
        "colab_type": "code",
        "colab": {
          "base_uri": "https://localhost:8080/",
          "height": 35
        },
        "outputId": "9cc50868-1da6-456e-ffa6-02fbcd09e2af"
      },
      "source": [
        "2 not in [1, 2, 3]"
      ],
      "execution_count": 25,
      "outputs": [
        {
          "output_type": "execute_result",
          "data": {
            "text/plain": [
              "False"
            ]
          },
          "metadata": {
            "tags": []
          },
          "execution_count": 25
        }
      ]
    },
    {
      "cell_type": "markdown",
      "metadata": {
        "id": "v-arIw-LL0Gq",
        "colab_type": "text"
      },
      "source": [
        "These membership operations are an example of what makes Python so easy to use compared to lower-level languages such as C.\n",
        "In C, membership would generally be determined by manually constructing a loop over the list and checking for equality of each value.\n",
        "In Python, you just type what you want to know, in a manner reminiscent of straightforward English prose."
      ]
    },
    {
      "cell_type": "markdown",
      "metadata": {
        "id": "7IWARum9L0Gr",
        "colab_type": "text"
      },
      "source": [
        "<!--NAVIGATION-->\n",
        "< [Basic Python Semantics: Variables and Objects](03-Semantics-Variables.ipynb) | [Contents](Index.ipynb) | [Built-In Types: Simple Values](05-Built-in-Scalar-Types.ipynb) >"
      ]
    }
  ]
}