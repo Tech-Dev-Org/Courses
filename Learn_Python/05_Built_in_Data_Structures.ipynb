{
  "nbformat": 4,
  "nbformat_minor": 0,
  "metadata": {
    "anaconda-cloud": {},
    "kernelspec": {
      "display_name": "Python 3",
      "language": "python",
      "name": "python3"
    },
    "language_info": {
      "codemirror_mode": {
        "name": "ipython",
        "version": 3
      },
      "file_extension": ".py",
      "mimetype": "text/x-python",
      "name": "python",
      "nbconvert_exporter": "python",
      "pygments_lexer": "ipython3",
      "version": "3.7.3"
    },
    "colab": {
      "name": "05-Built-in-Data-Structures.ipynb",
      "provenance": []
    }
  },
  "cells": [
    {
      "cell_type": "markdown",
      "metadata": {
        "id": "g8NhDfGBmltc",
        "colab_type": "text"
      },
      "source": [
        "# Built-In Data Structures"
      ]
    },
    {
      "cell_type": "markdown",
      "metadata": {
        "id": "M3tvRdU5mltd",
        "colab_type": "text"
      },
      "source": [
        "We have seen Python's simple types: ``int``, ``float``, ``complex``, ``bool``, ``str``, and so on.\n",
        "Python also has several built-in compound types, which act as containers for other types.\n",
        "These compound types are:\n",
        "\n",
        "| Type Name | Example                   |Description                            |\n",
        "|-----------|---------------------------|---------------------------------------|\n",
        "| ``list``  | ``[1, 2, 3]``             | Ordered collection                    |\n",
        "| ``tuple`` | ``(1, 2, 3)``             | Immutable ordered collection          |\n",
        "| ``dict``  | ``{'a':1, 'b':2, 'c':3}`` | Unordered (key,value) mapping         |\n",
        "| ``set``   | ``{1, 2, 3}``             | Unordered collection of unique values |\n",
        "\n",
        "As you can see, round, square, and curly brackets have distinct meanings when it comes to the type of collection produced.\n",
        "We'll take a quick tour of these data structures here."
      ]
    },
    {
      "cell_type": "markdown",
      "metadata": {
        "id": "t_WM5bNDmltf",
        "colab_type": "text"
      },
      "source": [
        "## Lists\n",
        "Lists are the basic *ordered* and *mutable* data collection type in Python.\n",
        "They can be defined with comma-separated values between square brackets; for example, here is a list of the first several prime numbers:"
      ]
    },
    {
      "cell_type": "code",
      "metadata": {
        "id": "SdoTQfbQmlti",
        "colab_type": "code",
        "colab": {}
      },
      "source": [
        "L = [2, 3, 5, 7]"
      ],
      "execution_count": 0,
      "outputs": []
    },
    {
      "cell_type": "markdown",
      "metadata": {
        "id": "r5z4H-avmltp",
        "colab_type": "text"
      },
      "source": [
        "Lists have a number of useful properties and methods available to them.\n",
        "Here we'll take a quick look at some of the more common and useful ones:"
      ]
    },
    {
      "cell_type": "code",
      "metadata": {
        "id": "8fMf-ATHmltq",
        "colab_type": "code",
        "outputId": "05750d77-b087-48a0-e09d-df256e746db0",
        "colab": {
          "base_uri": "https://localhost:8080/",
          "height": 35
        }
      },
      "source": [
        "# Length of a list\n",
        "len(L)"
      ],
      "execution_count": 0,
      "outputs": [
        {
          "output_type": "execute_result",
          "data": {
            "text/plain": [
              "4"
            ]
          },
          "metadata": {
            "tags": []
          },
          "execution_count": 36
        }
      ]
    },
    {
      "cell_type": "code",
      "metadata": {
        "id": "JPikIREfmltv",
        "colab_type": "code",
        "outputId": "b71bde9d-7b9d-49e9-ef9f-fcdc0c98842c",
        "colab": {
          "base_uri": "https://localhost:8080/",
          "height": 35
        }
      },
      "source": [
        "# Append a value to the end\n",
        "L.append(11)\n",
        "L"
      ],
      "execution_count": 0,
      "outputs": [
        {
          "output_type": "execute_result",
          "data": {
            "text/plain": [
              "[2, 3, 5, 7, 11]"
            ]
          },
          "metadata": {
            "tags": []
          },
          "execution_count": 37
        }
      ]
    },
    {
      "cell_type": "code",
      "metadata": {
        "id": "AsxWS4lRmlt2",
        "colab_type": "code",
        "outputId": "07ade533-8841-4408-c2e2-d3b7fd058a4a",
        "colab": {
          "base_uri": "https://localhost:8080/",
          "height": 35
        }
      },
      "source": [
        "# Addition concatenates lists\n",
        "L + [13, 17, 19]"
      ],
      "execution_count": 0,
      "outputs": [
        {
          "output_type": "execute_result",
          "data": {
            "text/plain": [
              "[2, 3, 5, 7, 11, 13, 17, 19]"
            ]
          },
          "metadata": {
            "tags": []
          },
          "execution_count": 38
        }
      ]
    },
    {
      "cell_type": "code",
      "metadata": {
        "id": "erUhcP5Kmlt-",
        "colab_type": "code",
        "outputId": "bb82de4f-b602-430d-dc56-7e0f233f6765",
        "colab": {
          "base_uri": "https://localhost:8080/",
          "height": 35
        }
      },
      "source": [
        "# sort() method sorts in-place\n",
        "L = [2, 5, 1, 6, 3, 4]\n",
        "L.sort()\n",
        "L"
      ],
      "execution_count": 0,
      "outputs": [
        {
          "output_type": "execute_result",
          "data": {
            "text/plain": [
              "[1, 2, 3, 4, 5, 6]"
            ]
          },
          "metadata": {
            "tags": []
          },
          "execution_count": 39
        }
      ]
    },
    {
      "cell_type": "markdown",
      "metadata": {
        "id": "aabKUiJ6mluF",
        "colab_type": "text"
      },
      "source": [
        "In addition, there are many more built-in list methods; they are well-covered in Python's [online documentation](https://docs.python.org/3/tutorial/datastructures.html).\n",
        "\n",
        "While we've been demonstrating lists containing values of a single type, one of the powerful features of Python's compound objects is that they can contain objects of *any* type, or even a mix of types. For example:"
      ]
    },
    {
      "cell_type": "code",
      "metadata": {
        "id": "mpapMZAXmluG",
        "colab_type": "code",
        "colab": {}
      },
      "source": [
        "L = [1, 'two', 3.14, [0, 3, 5]]"
      ],
      "execution_count": 0,
      "outputs": []
    },
    {
      "cell_type": "markdown",
      "metadata": {
        "id": "rs1LYe38mluL",
        "colab_type": "text"
      },
      "source": [
        "This flexibility is a consequence of Python's dynamic type system.\n",
        "Creating such a mixed sequence in a statically-typed language like C can be much more of a headache!\n",
        "We see that lists can even contain other lists as elements.\n",
        "Such type flexibility is an essential piece of what makes Python code relatively quick and easy to write.\n",
        "\n",
        "So far we've been considering manipulations of lists as a whole; another essential piece is the accessing of individual elements.\n",
        "This is done in Python via *indexing* and *slicing*, which we'll explore next."
      ]
    },
    {
      "cell_type": "markdown",
      "metadata": {
        "id": "2zAy_0q5mluM",
        "colab_type": "text"
      },
      "source": [
        "### List indexing and slicing\n",
        "Python provides access to elements in compound types through *indexing* for single elements, and *slicing* for multiple elements.\n",
        "As we'll see, both are indicated by a square-bracket syntax.\n",
        "Suppose we return to our list of the first several primes:"
      ]
    },
    {
      "cell_type": "code",
      "metadata": {
        "id": "UZeaZ9tvmluO",
        "colab_type": "code",
        "colab": {}
      },
      "source": [
        "L = [2, 3, 5, 7, 11]"
      ],
      "execution_count": 0,
      "outputs": []
    },
    {
      "cell_type": "markdown",
      "metadata": {
        "id": "3oLqKZs9mluU",
        "colab_type": "text"
      },
      "source": [
        "Python uses *zero-based* indexing, so we can access the first and second element in using the following syntax:"
      ]
    },
    {
      "cell_type": "code",
      "metadata": {
        "id": "MuqBUyZjmluY",
        "colab_type": "code",
        "outputId": "e57aca99-0068-495b-c1cc-79cb625d9f25",
        "colab": {
          "base_uri": "https://localhost:8080/",
          "height": 35
        }
      },
      "source": [
        "L[0]"
      ],
      "execution_count": 0,
      "outputs": [
        {
          "output_type": "execute_result",
          "data": {
            "text/plain": [
              "2"
            ]
          },
          "metadata": {
            "tags": []
          },
          "execution_count": 42
        }
      ]
    },
    {
      "cell_type": "code",
      "metadata": {
        "id": "fMObAciwmluf",
        "colab_type": "code",
        "outputId": "b3bd01c2-1dbd-40ec-db8f-4065c839fe7c",
        "colab": {
          "base_uri": "https://localhost:8080/",
          "height": 35
        }
      },
      "source": [
        "L[1]"
      ],
      "execution_count": 0,
      "outputs": [
        {
          "output_type": "execute_result",
          "data": {
            "text/plain": [
              "3"
            ]
          },
          "metadata": {
            "tags": []
          },
          "execution_count": 43
        }
      ]
    },
    {
      "cell_type": "markdown",
      "metadata": {
        "id": "69Izxhsamlul",
        "colab_type": "text"
      },
      "source": [
        "Elements at the end of the list can be accessed with negative numbers, starting from -1:"
      ]
    },
    {
      "cell_type": "code",
      "metadata": {
        "id": "J1LoQX1-mlum",
        "colab_type": "code",
        "outputId": "83823c13-6224-45f4-b838-b1e98eed0121",
        "colab": {
          "base_uri": "https://localhost:8080/",
          "height": 35
        }
      },
      "source": [
        "L[-1]"
      ],
      "execution_count": 0,
      "outputs": [
        {
          "output_type": "execute_result",
          "data": {
            "text/plain": [
              "11"
            ]
          },
          "metadata": {
            "tags": []
          },
          "execution_count": 44
        }
      ]
    },
    {
      "cell_type": "code",
      "metadata": {
        "id": "R2DDLXmLmlus",
        "colab_type": "code",
        "outputId": "54779945-0da6-4153-b45e-ee8e6e3fd437",
        "colab": {
          "base_uri": "https://localhost:8080/",
          "height": 35
        }
      },
      "source": [
        "L[-2]"
      ],
      "execution_count": 0,
      "outputs": [
        {
          "output_type": "execute_result",
          "data": {
            "text/plain": [
              "7"
            ]
          },
          "metadata": {
            "tags": []
          },
          "execution_count": 45
        }
      ]
    },
    {
      "cell_type": "markdown",
      "metadata": {
        "id": "v4KN80XFmluw",
        "colab_type": "text"
      },
      "source": [
        "You can visualize this indexing scheme this way:"
      ]
    },
    {
      "cell_type": "markdown",
      "metadata": {
        "id": "8l0Jp-0Tmluy",
        "colab_type": "text"
      },
      "source": [
        "Here values in the list are represented by large numbers in the squares; list indices are represented by small numbers above and below.\n",
        "In this case, ``L[2]`` returns ``5``, because that is the next value at index ``2``."
      ]
    },
    {
      "cell_type": "markdown",
      "metadata": {
        "id": "FiWIykNamlu0",
        "colab_type": "text"
      },
      "source": [
        "Where *indexing* is a means of fetching a single value from the list, *slicing* is a means of accessing multiple values in sub-lists.\n",
        "It uses a colon to indicate the start point (inclusive) and end point (non-inclusive) of the sub-array.\n",
        "For example, to get the first three elements of the list, we can write:"
      ]
    },
    {
      "cell_type": "code",
      "metadata": {
        "id": "x5woF2vymlu1",
        "colab_type": "code",
        "outputId": "a75c6c5e-3988-4ffe-e953-5bf92d0cb861",
        "colab": {
          "base_uri": "https://localhost:8080/",
          "height": 35
        }
      },
      "source": [
        "L[0:3]"
      ],
      "execution_count": 0,
      "outputs": [
        {
          "output_type": "execute_result",
          "data": {
            "text/plain": [
              "[2, 3, 5]"
            ]
          },
          "metadata": {
            "tags": []
          },
          "execution_count": 46
        }
      ]
    },
    {
      "cell_type": "markdown",
      "metadata": {
        "id": "bKy76wjSmlu5",
        "colab_type": "text"
      },
      "source": [
        "Notice where ``0`` and ``3`` lie in the preceding diagram, and how the slice takes just the values between the indices.\n",
        "If we leave out the first index, ``0`` is assumed, so we can equivalently write:"
      ]
    },
    {
      "cell_type": "code",
      "metadata": {
        "id": "VFgPKB1Hmlu7",
        "colab_type": "code",
        "outputId": "21baacff-e6f6-4449-a4b7-79bf108a1d34",
        "colab": {
          "base_uri": "https://localhost:8080/",
          "height": 35
        }
      },
      "source": [
        "L[:3]"
      ],
      "execution_count": 0,
      "outputs": [
        {
          "output_type": "execute_result",
          "data": {
            "text/plain": [
              "[2, 3, 5]"
            ]
          },
          "metadata": {
            "tags": []
          },
          "execution_count": 47
        }
      ]
    },
    {
      "cell_type": "markdown",
      "metadata": {
        "id": "4twqj4ybmlvC",
        "colab_type": "text"
      },
      "source": [
        "Similarly, if we leave out the last index, it defaults to the length of the list.\n",
        "Thus, the last three elements can be accessed as follows:"
      ]
    },
    {
      "cell_type": "code",
      "metadata": {
        "id": "d5ysi_PRmlvD",
        "colab_type": "code",
        "outputId": "6f0ffc39-d458-4f9e-f9e3-a0f3ee2d83a2",
        "colab": {
          "base_uri": "https://localhost:8080/",
          "height": 35
        }
      },
      "source": [
        "L[-3:]"
      ],
      "execution_count": 0,
      "outputs": [
        {
          "output_type": "execute_result",
          "data": {
            "text/plain": [
              "[5, 7, 11]"
            ]
          },
          "metadata": {
            "tags": []
          },
          "execution_count": 48
        }
      ]
    },
    {
      "cell_type": "markdown",
      "metadata": {
        "id": "YA2W4ywpmlvJ",
        "colab_type": "text"
      },
      "source": [
        "Finally, it is possible to specify a third integer that represents the step size; for example, to select every second element of the list, we can write:"
      ]
    },
    {
      "cell_type": "code",
      "metadata": {
        "id": "Yl6BR_cKmlvK",
        "colab_type": "code",
        "outputId": "a22ec77f-616b-4471-a27d-6d389639d11b",
        "colab": {
          "base_uri": "https://localhost:8080/",
          "height": 35
        }
      },
      "source": [
        "L[::2]  # equivalent to L[0:len(L):2]"
      ],
      "execution_count": 0,
      "outputs": [
        {
          "output_type": "execute_result",
          "data": {
            "text/plain": [
              "[2, 5, 11]"
            ]
          },
          "metadata": {
            "tags": []
          },
          "execution_count": 49
        }
      ]
    },
    {
      "cell_type": "markdown",
      "metadata": {
        "id": "S0Ggo3XimlvP",
        "colab_type": "text"
      },
      "source": [
        "A particularly useful version of this is to specify a negative step, which will reverse the array:"
      ]
    },
    {
      "cell_type": "code",
      "metadata": {
        "id": "x458jfucmlvQ",
        "colab_type": "code",
        "outputId": "0b0eff91-0937-4c0f-e14f-ddad3c432266",
        "colab": {
          "base_uri": "https://localhost:8080/",
          "height": 35
        }
      },
      "source": [
        "L[::-1]"
      ],
      "execution_count": 0,
      "outputs": [
        {
          "output_type": "execute_result",
          "data": {
            "text/plain": [
              "[11, 7, 5, 3, 2]"
            ]
          },
          "metadata": {
            "tags": []
          },
          "execution_count": 16
        }
      ]
    },
    {
      "cell_type": "markdown",
      "metadata": {
        "id": "94sZtMSFmlvV",
        "colab_type": "text"
      },
      "source": [
        "Both indexing and slicing can be used to set elements as well as access them.\n",
        "The syntax is as you would expect:"
      ]
    },
    {
      "cell_type": "code",
      "metadata": {
        "id": "SfMIgOGzmlvW",
        "colab_type": "code",
        "outputId": "b90d5bf8-6864-4f95-b811-1b87fb352c3b",
        "colab": {
          "base_uri": "https://localhost:8080/",
          "height": 35
        }
      },
      "source": [
        "L[0] = 100\n",
        "print(L)"
      ],
      "execution_count": 0,
      "outputs": [
        {
          "output_type": "stream",
          "text": [
            "[100, 3, 5, 7, 11]\n"
          ],
          "name": "stdout"
        }
      ]
    },
    {
      "cell_type": "code",
      "metadata": {
        "id": "OlYVxlI4mlva",
        "colab_type": "code",
        "outputId": "057bf4e7-37bb-4a47-929d-e14e383edbda",
        "colab": {
          "base_uri": "https://localhost:8080/",
          "height": 35
        }
      },
      "source": [
        "L[1:3] = [55, 56]\n",
        "print(L)"
      ],
      "execution_count": 0,
      "outputs": [
        {
          "output_type": "stream",
          "text": [
            "[100, 55, 56, 7, 11]\n"
          ],
          "name": "stdout"
        }
      ]
    },
    {
      "cell_type": "markdown",
      "metadata": {
        "id": "ihyQw-9bmlvg",
        "colab_type": "text"
      },
      "source": [
        "A very similar slicing syntax is also used in many data science-oriented packages, including NumPy and Pandas (mentioned in the introduction).\n",
        "\n",
        "Now that we have seen Python lists and how to access elements in ordered compound types, let's take a look at the other three standard compound data types mentioned earlier."
      ]
    },
    {
      "cell_type": "markdown",
      "metadata": {
        "id": "pYtK7nDXmlvh",
        "colab_type": "text"
      },
      "source": [
        "## Tuples\n",
        "Tuples are in many ways similar to lists, but they are defined with parentheses rather than square brackets:"
      ]
    },
    {
      "cell_type": "code",
      "metadata": {
        "id": "loHNQYYImlvi",
        "colab_type": "code",
        "colab": {}
      },
      "source": [
        "t = (1, 2, 3)"
      ],
      "execution_count": 0,
      "outputs": []
    },
    {
      "cell_type": "markdown",
      "metadata": {
        "id": "q8nBKorqmlvn",
        "colab_type": "text"
      },
      "source": [
        "They can also be defined without any brackets at all:"
      ]
    },
    {
      "cell_type": "code",
      "metadata": {
        "id": "suOFEvS-mlvo",
        "colab_type": "code",
        "outputId": "adebedf7-a081-495e-d8c4-a1264897fb33",
        "colab": {
          "base_uri": "https://localhost:8080/",
          "height": 35
        }
      },
      "source": [
        "t = 1, 2, 3\n",
        "print(t)"
      ],
      "execution_count": 0,
      "outputs": [
        {
          "output_type": "stream",
          "text": [
            "(1, 2, 3)\n"
          ],
          "name": "stdout"
        }
      ]
    },
    {
      "cell_type": "markdown",
      "metadata": {
        "id": "98aAf1cpmlvs",
        "colab_type": "text"
      },
      "source": [
        "Like the lists discussed before, tuples have a length, and individual elements can be extracted using square-bracket indexing:"
      ]
    },
    {
      "cell_type": "code",
      "metadata": {
        "id": "1CX8eJgdmlvs",
        "colab_type": "code",
        "outputId": "05bfb27f-334f-476e-d456-d0a5e812bd36",
        "colab": {
          "base_uri": "https://localhost:8080/",
          "height": 35
        }
      },
      "source": [
        "len(t)"
      ],
      "execution_count": 0,
      "outputs": [
        {
          "output_type": "execute_result",
          "data": {
            "text/plain": [
              "3"
            ]
          },
          "metadata": {
            "tags": []
          },
          "execution_count": 54
        }
      ]
    },
    {
      "cell_type": "code",
      "metadata": {
        "id": "xpurTDLrmlvz",
        "colab_type": "code",
        "outputId": "ac683558-8806-4676-e8db-087d323482c8",
        "colab": {
          "base_uri": "https://localhost:8080/",
          "height": 35
        }
      },
      "source": [
        "t[0]"
      ],
      "execution_count": 0,
      "outputs": [
        {
          "output_type": "execute_result",
          "data": {
            "text/plain": [
              "1"
            ]
          },
          "metadata": {
            "tags": []
          },
          "execution_count": 55
        }
      ]
    },
    {
      "cell_type": "markdown",
      "metadata": {
        "id": "_rIEw7IKmlv5",
        "colab_type": "text"
      },
      "source": [
        "The main distinguishing feature of tuples is that they are *immutable*: this means that once they are created, their size and contents cannot be changed:"
      ]
    },
    {
      "cell_type": "code",
      "metadata": {
        "id": "ZKide6chmlv6",
        "colab_type": "code",
        "outputId": "29038c3e-3a7d-4d40-f3a9-98cf1f9cd303",
        "colab": {
          "base_uri": "https://localhost:8080/",
          "height": 171
        }
      },
      "source": [
        "t[1] = 4"
      ],
      "execution_count": 0,
      "outputs": [
        {
          "output_type": "error",
          "ename": "TypeError",
          "evalue": "ignored",
          "traceback": [
            "\u001b[0;31m---------------------------------------------------------------------------\u001b[0m",
            "\u001b[0;31mTypeError\u001b[0m                                 Traceback (most recent call last)",
            "\u001b[0;32m<ipython-input-56-87b0f225887f>\u001b[0m in \u001b[0;36m<module>\u001b[0;34m()\u001b[0m\n\u001b[0;32m----> 1\u001b[0;31m \u001b[0mt\u001b[0m\u001b[0;34m[\u001b[0m\u001b[0;36m1\u001b[0m\u001b[0;34m]\u001b[0m \u001b[0;34m=\u001b[0m \u001b[0;36m4\u001b[0m\u001b[0;34m\u001b[0m\u001b[0;34m\u001b[0m\u001b[0m\n\u001b[0m",
            "\u001b[0;31mTypeError\u001b[0m: 'tuple' object does not support item assignment"
          ]
        }
      ]
    },
    {
      "cell_type": "code",
      "metadata": {
        "id": "bUnlzU48mlv9",
        "colab_type": "code",
        "outputId": "11474ee6-c5d7-4dff-c94f-4c1a2467a4ea",
        "colab": {
          "base_uri": "https://localhost:8080/",
          "height": 171
        }
      },
      "source": [
        "t.append(4)"
      ],
      "execution_count": 0,
      "outputs": [
        {
          "output_type": "error",
          "ename": "AttributeError",
          "evalue": "ignored",
          "traceback": [
            "\u001b[0;31m---------------------------------------------------------------------------\u001b[0m",
            "\u001b[0;31mAttributeError\u001b[0m                            Traceback (most recent call last)",
            "\u001b[0;32m<ipython-input-57-ada7ed8a579e>\u001b[0m in \u001b[0;36m<module>\u001b[0;34m()\u001b[0m\n\u001b[0;32m----> 1\u001b[0;31m \u001b[0mt\u001b[0m\u001b[0;34m.\u001b[0m\u001b[0mappend\u001b[0m\u001b[0;34m(\u001b[0m\u001b[0;36m4\u001b[0m\u001b[0;34m)\u001b[0m\u001b[0;34m\u001b[0m\u001b[0;34m\u001b[0m\u001b[0m\n\u001b[0m",
            "\u001b[0;31mAttributeError\u001b[0m: 'tuple' object has no attribute 'append'"
          ]
        }
      ]
    },
    {
      "cell_type": "markdown",
      "metadata": {
        "id": "iS-K92uamlwE",
        "colab_type": "text"
      },
      "source": [
        "Tuples are often used in a Python program; a particularly common case is in functions that have multiple return values.\n",
        "For example, the ``as_integer_ratio()`` method of floating-point objects returns a numerator and a denominator; this dual return value comes in the form of a tuple:"
      ]
    },
    {
      "cell_type": "code",
      "metadata": {
        "id": "SueQ-wp2mlwF",
        "colab_type": "code",
        "outputId": "df144464-ecd8-41d8-e62a-6ce772279e7a",
        "colab": {
          "base_uri": "https://localhost:8080/",
          "height": 35
        }
      },
      "source": [
        "x = 0.125\n",
        "x.as_integer_ratio()"
      ],
      "execution_count": 0,
      "outputs": [
        {
          "output_type": "execute_result",
          "data": {
            "text/plain": [
              "(1, 8)"
            ]
          },
          "metadata": {
            "tags": []
          },
          "execution_count": 58
        }
      ]
    },
    {
      "cell_type": "markdown",
      "metadata": {
        "id": "ndQHWe8hmlwK",
        "colab_type": "text"
      },
      "source": [
        "These multiple return values can be individually assigned as follows:"
      ]
    },
    {
      "cell_type": "code",
      "metadata": {
        "id": "hif6k7uLmlwO",
        "colab_type": "code",
        "outputId": "93dc843b-54ef-4f28-fb2d-8314370c7af4",
        "colab": {
          "base_uri": "https://localhost:8080/",
          "height": 35
        }
      },
      "source": [
        "numerator, denominator = x.as_integer_ratio()\n",
        "print(numerator / denominator)"
      ],
      "execution_count": 0,
      "outputs": [
        {
          "output_type": "stream",
          "text": [
            "0.125\n"
          ],
          "name": "stdout"
        }
      ]
    },
    {
      "cell_type": "markdown",
      "metadata": {
        "id": "GQ8z9HqZmlwS",
        "colab_type": "text"
      },
      "source": [
        "The indexing and slicing logic covered earlier for lists works for tuples as well, along with a host of other methods.\n",
        "Refer to the online [Python documentation](https://docs.python.org/3/tutorial/datastructures.html) for a more complete list of these."
      ]
    },
    {
      "cell_type": "markdown",
      "metadata": {
        "id": "9MexDgV6mlwT",
        "colab_type": "text"
      },
      "source": [
        "## Dictionaries\n",
        "Dictionaries are extremely flexible mappings of keys to values, and form the basis of much of Python's internal implementation.\n",
        "They can be created via a comma-separated list of ``key:value`` pairs within curly braces:"
      ]
    },
    {
      "cell_type": "code",
      "metadata": {
        "id": "sBSxUtYqmlwU",
        "colab_type": "code",
        "colab": {}
      },
      "source": [
        "numbers = {'one':1, 'two':2, 'three':3}"
      ],
      "execution_count": 0,
      "outputs": []
    },
    {
      "cell_type": "markdown",
      "metadata": {
        "id": "C-HkZKgAmlwZ",
        "colab_type": "text"
      },
      "source": [
        "Items are accessed and set via the indexing syntax used for lists and tuples, except here the index is not a zero-based order but valid key in the dictionary:"
      ]
    },
    {
      "cell_type": "code",
      "metadata": {
        "id": "NjQUdCrdmlwa",
        "colab_type": "code",
        "outputId": "f665cd78-0000-41e3-c6d9-e59c8ac9ca89",
        "colab": {
          "base_uri": "https://localhost:8080/",
          "height": 35
        }
      },
      "source": [
        "# Access a value via the key\n",
        "numbers['two']"
      ],
      "execution_count": 0,
      "outputs": [
        {
          "output_type": "execute_result",
          "data": {
            "text/plain": [
              "2"
            ]
          },
          "metadata": {
            "tags": []
          },
          "execution_count": 60
        }
      ]
    },
    {
      "cell_type": "markdown",
      "metadata": {
        "id": "x-44rRJ-mlwd",
        "colab_type": "text"
      },
      "source": [
        "New items can be added to the dictionary using indexing as well:"
      ]
    },
    {
      "cell_type": "code",
      "metadata": {
        "id": "5ten7SgTmlwe",
        "colab_type": "code",
        "outputId": "3f8afa30-a7b4-4deb-bca1-06154fbfbf1f",
        "colab": {
          "base_uri": "https://localhost:8080/",
          "height": 35
        }
      },
      "source": [
        "# Set a new key:value pair\n",
        "numbers['ninety'] = 90\n",
        "print(numbers)"
      ],
      "execution_count": 0,
      "outputs": [
        {
          "output_type": "stream",
          "text": [
            "{'one': 1, 'two': 2, 'three': 3, 'ninety': 90}\n"
          ],
          "name": "stdout"
        }
      ]
    },
    {
      "cell_type": "markdown",
      "metadata": {
        "id": "DHX_iUHQmlwk",
        "colab_type": "text"
      },
      "source": [
        "Keep in mind that dictionaries do not maintain any sense of order for the input parameters; this is by design.\n",
        "This lack of ordering allows dictionaries to be implemented very efficiently, so that random element access is very fast, regardless of the size of the dictionary (if you're curious how this works, read about the concept of a *hash table*).\n",
        "The [python documentation](https://docs.python.org/3/library/stdtypes.html) has a complete list of the methods available for dictionaries."
      ]
    },
    {
      "cell_type": "markdown",
      "metadata": {
        "id": "DFyJyiDPmlwl",
        "colab_type": "text"
      },
      "source": [
        "## Sets\n",
        "\n",
        "The fourth basic collection is the set, which contains unordered collections of unique items.\n",
        "They are defined much like lists and tuples, except they use the curly brackets of dictionaries:"
      ]
    },
    {
      "cell_type": "code",
      "metadata": {
        "id": "eGoQZJpLmlwl",
        "colab_type": "code",
        "colab": {}
      },
      "source": [
        "primes = {2, 3, 5, 7}\n",
        "odds = {1, 3, 5, 7, 9}\n"
      ],
      "execution_count": 0,
      "outputs": []
    },
    {
      "cell_type": "markdown",
      "metadata": {
        "id": "yCUYwUrMmlwr",
        "colab_type": "text"
      },
      "source": [
        "If you're familiar with the mathematics of sets, you'll be familiar with operations like the union, intersection, difference, symmetric difference, and others.\n",
        "Python's sets have all of these operations built-in, via methods or operators.\n",
        "For each, we'll show the two equivalent methods:"
      ]
    },
    {
      "cell_type": "code",
      "metadata": {
        "id": "0iZUzYbvmlwr",
        "colab_type": "code",
        "outputId": "685a688e-e793-48cf-ad7e-e9e3e5cb80cc",
        "colab": {
          "base_uri": "https://localhost:8080/",
          "height": 35
        }
      },
      "source": [
        "# union: items appearing in either\n",
        "primes | odds      # with an operator\n",
        "primes.union(odds) # equivalently with a method"
      ],
      "execution_count": 0,
      "outputs": [
        {
          "output_type": "execute_result",
          "data": {
            "text/plain": [
              "{1, 2, 3, 5, 7, 9}"
            ]
          },
          "metadata": {
            "tags": []
          },
          "execution_count": 64
        }
      ]
    },
    {
      "cell_type": "code",
      "metadata": {
        "id": "ZO58dUVgmlwx",
        "colab_type": "code",
        "outputId": "c3adc56b-2917-48b2-ef70-8fbb3c27b960",
        "colab": {
          "base_uri": "https://localhost:8080/",
          "height": 35
        }
      },
      "source": [
        "# intersection: items appearing in both\n",
        "primes & odds             # with an operator\n",
        "primes.intersection(odds) # equivalently with a method"
      ],
      "execution_count": 0,
      "outputs": [
        {
          "output_type": "execute_result",
          "data": {
            "text/plain": [
              "{3, 5, 7}"
            ]
          },
          "metadata": {
            "tags": []
          },
          "execution_count": 65
        }
      ]
    },
    {
      "cell_type": "code",
      "metadata": {
        "id": "xo20uWMjmlw0",
        "colab_type": "code",
        "outputId": "28b7cac1-43fd-4bea-d8ee-785d499ecc57",
        "colab": {
          "base_uri": "https://localhost:8080/",
          "height": 35
        }
      },
      "source": [
        "# difference: items in primes but not in odds\n",
        "primes - odds           # with an operator\n",
        "primes.difference(odds) # equivalently with a method"
      ],
      "execution_count": 0,
      "outputs": [
        {
          "output_type": "execute_result",
          "data": {
            "text/plain": [
              "{2}"
            ]
          },
          "metadata": {
            "tags": []
          },
          "execution_count": 66
        }
      ]
    },
    {
      "cell_type": "code",
      "metadata": {
        "id": "cWz6OX6Zmlw4",
        "colab_type": "code",
        "outputId": "4c4dc263-4e50-4849-d679-ec416843e9dc",
        "colab": {
          "base_uri": "https://localhost:8080/",
          "height": 35
        }
      },
      "source": [
        "# symmetric difference: items appearing in only one set\n",
        "primes ^ odds                     # with an operator\n",
        "primes.symmetric_difference(odds) # equivalently with a method"
      ],
      "execution_count": 0,
      "outputs": [
        {
          "output_type": "execute_result",
          "data": {
            "text/plain": [
              "{1, 2, 9}"
            ]
          },
          "metadata": {
            "tags": []
          },
          "execution_count": 67
        }
      ]
    },
    {
      "cell_type": "markdown",
      "metadata": {
        "id": "HFcfbkKTmlw-",
        "colab_type": "text"
      },
      "source": [
        "Many more set methods and operations are available.\n",
        "You've probably already guessed what I'll say next: refer to Python's [online documentation](https://docs.python.org/3/library/stdtypes.html) for a complete reference."
      ]
    },
    {
      "cell_type": "markdown",
      "metadata": {
        "id": "tcsqYRcYmlxA",
        "colab_type": "text"
      },
      "source": [
        "## More Specialized Data Structures\n",
        "\n",
        "Python contains several other data structures that you might find useful; these can generally be found in the built-in ``collections`` module.\n",
        "The collections module is fully-documented in [Python's online documentation](https://docs.python.org/3/library/collections.html), and you can read more about the various objects available there.\n",
        "\n",
        "In particular, I've found the following very useful on occasion:\n",
        "\n",
        "- ``collections.namedtuple``: Like a tuple, but each value has a name\n",
        "- ``collections.defaultdict``: Like a dictionary, but unspecified keys have a user-specified default value\n",
        "- ``collections.OrderedDict``: Like a dictionary, but the order of keys is maintained\n",
        "\n",
        "Once you've seen the standard built-in collection types, the use of these extended functionalities is very intuitive, and I'd suggest [reading about their use](https://docs.python.org/3/library/collections.html)."
      ]
    }
  ]
}